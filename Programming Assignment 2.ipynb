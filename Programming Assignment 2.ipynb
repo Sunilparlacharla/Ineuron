{
 "cells": [
  {
   "cell_type": "markdown",
   "id": "8c7b4648",
   "metadata": {},
   "source": [
    "# Programming Assignment 2"
   ]
  },
  {
   "cell_type": "code",
   "execution_count": 9,
   "id": "959ce5a6",
   "metadata": {},
   "outputs": [],
   "source": [
    "import cmath"
   ]
  },
  {
   "cell_type": "code",
   "execution_count": 2,
   "id": "7aef0919",
   "metadata": {},
   "outputs": [],
   "source": [
    "import calendar"
   ]
  },
  {
   "cell_type": "raw",
   "id": "3e1b28bf",
   "metadata": {
    "raw_mimetype": "text/x-python"
   },
   "source": [
    "1.Write a Python program to convert kilometers to miles?"
   ]
  },
  {
   "cell_type": "code",
   "execution_count": 3,
   "id": "6da4b8a6",
   "metadata": {},
   "outputs": [
    {
     "name": "stdout",
     "output_type": "stream",
     "text": [
      "Enter speed in Kilometers: 34\n",
      "The speed in miles 21.126648000000003\n"
     ]
    }
   ],
   "source": [
    "Km=float(input('Enter speed in Kilometers: '))\n",
    "conversation= 0.621372      # 1km =0.621371miles\n",
    "miles=Km*conversation\n",
    "print('The speed in miles',miles)"
   ]
  },
  {
   "cell_type": "raw",
   "id": "ac2644d2",
   "metadata": {
    "raw_mimetype": "text/x-python"
   },
   "source": [
    "2.Write a Python program to convert Celsius to Fahrenheit?"
   ]
  },
  {
   "cell_type": "code",
   "execution_count": 4,
   "id": "5d5fa888",
   "metadata": {},
   "outputs": [
    {
     "name": "stdout",
     "output_type": "stream",
     "text": [
      "Enter TEMP in Celsius: 34\n",
      "The temp in Fahrenheit 93.2\n"
     ]
    }
   ],
   "source": [
    "C=float(input('Enter TEMP in Celsius: '))\n",
    "conversation= 32      # 0°c =32°F\n",
    "F=(C*1.8)+conversation\n",
    "print('The temp in Fahrenheit',F)"
   ]
  },
  {
   "cell_type": "raw",
   "id": "d45bcf66",
   "metadata": {
    "raw_mimetype": "text/x-python"
   },
   "source": [
    "3. Write a Python program to display calendar?"
   ]
  },
  {
   "cell_type": "code",
   "execution_count": 5,
   "id": "ff572491",
   "metadata": {},
   "outputs": [
    {
     "name": "stdout",
     "output_type": "stream",
     "text": [
      "Enter Year:2021\n",
      "Enter Month:12\n",
      "   December 2021\n",
      "Mo Tu We Th Fr Sa Su\n",
      "       1  2  3  4  5\n",
      " 6  7  8  9 10 11 12\n",
      "13 14 15 16 17 18 19\n",
      "20 21 22 23 24 25 26\n",
      "27 28 29 30 31\n",
      "\n"
     ]
    }
   ],
   "source": [
    "yy =int(input('Enter Year:'))\n",
    "mm =int(input('Enter Month:'))\n",
    "\n",
    "print(calendar.month(yy,mm))"
   ]
  },
  {
   "cell_type": "raw",
   "id": "0f7eb124",
   "metadata": {
    "raw_mimetype": "text/markdown"
   },
   "source": [
    "4.Write a Python program to solve quadratic equation?"
   ]
  },
  {
   "cell_type": "code",
   "execution_count": 26,
   "id": "ed3846e3",
   "metadata": {},
   "outputs": [],
   "source": [
    "a,b,c=1,6,9"
   ]
  },
  {
   "cell_type": "code",
   "execution_count": 27,
   "id": "c27fb9d4",
   "metadata": {},
   "outputs": [],
   "source": [
    "d=(b**2)-(4*a*c)"
   ]
  },
  {
   "cell_type": "code",
   "execution_count": 28,
   "id": "05da801f",
   "metadata": {},
   "outputs": [],
   "source": [
    "s1=(-b-cmath.sqrt(d))/(2*a)\n",
    "s2=(-b+cmath.sqrt(d))/(2*a)"
   ]
  },
  {
   "cell_type": "code",
   "execution_count": 29,
   "id": "97e2f5f4",
   "metadata": {},
   "outputs": [
    {
     "name": "stdout",
     "output_type": "stream",
     "text": [
      "The solution for quadartic equation is:  ((-3+0j), (-3+0j))\n",
      "The solutions for quadartic equation are (-3+0j) and (-3+0j)\n"
     ]
    }
   ],
   "source": [
    "print('The solution for quadartic equation is: ',(s1,s2))\n",
    "print('The solutions for quadartic equation are {} and {}'.format(s1,s2))"
   ]
  },
  {
   "cell_type": "raw",
   "id": "09468a62",
   "metadata": {},
   "source": [
    "5.Write a Python program to swap two variables without temp variable?"
   ]
  },
  {
   "cell_type": "code",
   "execution_count": 30,
   "id": "fa2d4b35",
   "metadata": {},
   "outputs": [],
   "source": [
    "x,y=5,6"
   ]
  },
  {
   "cell_type": "code",
   "execution_count": 31,
   "id": "5852bc3d",
   "metadata": {},
   "outputs": [],
   "source": [
    "x,y=y,x"
   ]
  },
  {
   "cell_type": "code",
   "execution_count": 32,
   "id": "dcb2f1df",
   "metadata": {},
   "outputs": [
    {
     "data": {
      "text/plain": [
       "(6, 5)"
      ]
     },
     "execution_count": 32,
     "metadata": {},
     "output_type": "execute_result"
    }
   ],
   "source": [
    "x,y"
   ]
  },
  {
   "cell_type": "code",
   "execution_count": null,
   "id": "25498896",
   "metadata": {},
   "outputs": [],
   "source": []
  }
 ],
 "metadata": {
  "celltoolbar": "Raw Cell Format",
  "kernelspec": {
   "display_name": "Python 3 (ipykernel)",
   "language": "python",
   "name": "python3"
  },
  "language_info": {
   "codemirror_mode": {
    "name": "ipython",
    "version": 3
   },
   "file_extension": ".py",
   "mimetype": "text/x-python",
   "name": "python",
   "nbconvert_exporter": "python",
   "pygments_lexer": "ipython3",
   "version": "3.8.8"
  }
 },
 "nbformat": 4,
 "nbformat_minor": 5
}
