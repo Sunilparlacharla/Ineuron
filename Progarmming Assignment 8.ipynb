{
 "cells": [
  {
   "cell_type": "markdown",
   "id": "77099e64",
   "metadata": {},
   "source": [
    "# Write a Python Program to Add Two Matrices?"
   ]
  },
  {
   "cell_type": "code",
   "execution_count": 1,
   "id": "ba288432",
   "metadata": {},
   "outputs": [
    {
     "name": "stdout",
     "output_type": "stream",
     "text": [
      "[[6, 8], [10, 12]]\n"
     ]
    }
   ],
   "source": [
    "def add_matrix(m1, m2):\n",
    "    if len(m1) != len(m2):\n",
    "        return None\n",
    "    if len(m1[0]) != len(m2[0]):\n",
    "        return None\n",
    "    result = []\n",
    "    for i in range(len(m1)):\n",
    "        row = []\n",
    "        for j in range(len(m1[0])):\n",
    "            row.append(m1[i][j] + m2[i][j])\n",
    "        result.append(row)\n",
    "    return result\n",
    "print(add_matrix([[1, 2], [3, 4]], [[5, 6], [7, 8]]))"
   ]
  },
  {
   "cell_type": "markdown",
   "id": "cdb9304d",
   "metadata": {},
   "source": [
    "# Write a Python Program to Multiply Two Matrices?"
   ]
  },
  {
   "cell_type": "code",
   "execution_count": 3,
   "id": "263de6aa",
   "metadata": {},
   "outputs": [
    {
     "name": "stdout",
     "output_type": "stream",
     "text": [
      "[5, 12]\n",
      "[21, 32]\n",
      "None\n"
     ]
    }
   ],
   "source": [
    "def main():\n",
    "    matrix1 = [[1, 2], [3, 4]]\n",
    "    matrix2 = [[5, 6], [7, 8]]\n",
    "    matrix3 = [[0, 0], [0, 0]]\n",
    "    for i in range(len(matrix1)):\n",
    "        for j in range(len(matrix1[0])):\n",
    "            matrix3[i][j] = matrix1[i][j] * matrix2[i][j]\n",
    "    for i in matrix3:\n",
    "        print(i)\n",
    "print(main())"
   ]
  },
  {
   "cell_type": "markdown",
   "id": "61a9326b",
   "metadata": {},
   "source": [
    "# Write a Python Program to Transpose a Matrix?"
   ]
  },
  {
   "cell_type": "code",
   "execution_count": 5,
   "id": "2f320a3a",
   "metadata": {},
   "outputs": [
    {
     "name": "stdout",
     "output_type": "stream",
     "text": [
      "[[1, 4, 7], [2, 5, 8], [3, 6, 9]]\n"
     ]
    }
   ],
   "source": [
    "def transpose(matrix):\n",
    "    return [[row[i] for row in matrix] for i in range(len(matrix[0]))]\n",
    "print(transpose([[1,2,3],[4,5,6],[7,8,9]]))"
   ]
  },
  {
   "cell_type": "markdown",
   "id": "fdf37db1",
   "metadata": {},
   "source": [
    "# Write a Python Program to Sort Words in Alphabetic Order?"
   ]
  },
  {
   "cell_type": "code",
   "execution_count": 6,
   "id": "8842f184",
   "metadata": {},
   "outputs": [
    {
     "name": "stdout",
     "output_type": "stream",
     "text": [
      "['C', 'C++', 'Java', 'Python']\n"
     ]
    }
   ],
   "source": [
    "def sort_words(words):\n",
    "    return sorted(words)\n",
    "print(sort_words([\"Python\", \"Java\", \"C++\", \"C\"]))"
   ]
  },
  {
   "cell_type": "markdown",
   "id": "be07b5d6",
   "metadata": {},
   "source": [
    "# Write a Python Program to Remove Punctuation From a String?"
   ]
  },
  {
   "cell_type": "code",
   "execution_count": 12,
   "id": "8b755d1a",
   "metadata": {},
   "outputs": [
    {
     "name": "stdout",
     "output_type": "stream",
     "text": [
      "Hello he said and went\n"
     ]
    }
   ],
   "source": [
    "punctuations = '''!()-[]{};:'\"\\,<>./?@#$%^&*_~'''\n",
    "my_str = \"Hello!!!, he said ---and went.\"\n",
    "no_punct = \"\"\n",
    "for char in my_str:\n",
    "    if char not in punctuations:\n",
    "        no_punct = no_punct + char\n",
    "print(no_punct)"
   ]
  },
  {
   "cell_type": "code",
   "execution_count": null,
   "id": "94d6fc6f",
   "metadata": {},
   "outputs": [],
   "source": []
  }
 ],
 "metadata": {
  "kernelspec": {
   "display_name": "Python 3 (ipykernel)",
   "language": "python",
   "name": "python3"
  },
  "language_info": {
   "codemirror_mode": {
    "name": "ipython",
    "version": 3
   },
   "file_extension": ".py",
   "mimetype": "text/x-python",
   "name": "python",
   "nbconvert_exporter": "python",
   "pygments_lexer": "ipython3",
   "version": "3.9.7"
  }
 },
 "nbformat": 4,
 "nbformat_minor": 5
}
