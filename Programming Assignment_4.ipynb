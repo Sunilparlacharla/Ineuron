{
 "cells": [
  {
   "cell_type": "markdown",
   "id": "ba6b18e9",
   "metadata": {},
   "source": [
    "# Programming Assignment_4"
   ]
  },
  {
   "cell_type": "code",
   "execution_count": 1,
   "id": "c9d31a63",
   "metadata": {},
   "outputs": [],
   "source": [
    "# 1. Write a Python Program to Find the Factorial of a Number?"
   ]
  },
  {
   "cell_type": "code",
   "execution_count": 2,
   "id": "56edd8e4",
   "metadata": {},
   "outputs": [
    {
     "name": "stdout",
     "output_type": "stream",
     "text": [
      "Enter a number: 23\n",
      "The factorial of 23 is  25852016738884976640000\n"
     ]
    }
   ],
   "source": [
    "f=int(input(\"Enter a number: \"))\n",
    "fact=1\n",
    "\n",
    "if f<0:  #for neagtive value\n",
    "    print('A day without laughter is a day wasted.')\n",
    "elif f==0:   #for zero.\n",
    "    print(\"Don't you know factorial of 0 you should restat studying mathmatics,Answer is 1.\")\n",
    "else:              #for postived values\n",
    "    for i in range(1,f+1): # (1,f)=(1......1-f)\n",
    "        fact*=i\n",
    "    print('The factorial of',f,'is ',fact)"
   ]
  },
  {
   "cell_type": "code",
   "execution_count": 3,
   "id": "44e2a890",
   "metadata": {},
   "outputs": [],
   "source": [
    "# 2. Write a Python Program to Display the multiplication Table?"
   ]
  },
  {
   "cell_type": "code",
   "execution_count": 4,
   "id": "482ab5f3",
   "metadata": {},
   "outputs": [
    {
     "name": "stdout",
     "output_type": "stream",
     "text": [
      "Enter a number: 23\n",
      "23 * 1 = 23\n",
      "23 * 2 = 46\n",
      "23 * 3 = 69\n",
      "23 * 4 = 92\n",
      "23 * 5 = 115\n",
      "23 * 6 = 138\n",
      "23 * 7 = 161\n",
      "23 * 8 = 184\n",
      "23 * 9 = 207\n",
      "23 * 10 = 230\n"
     ]
    }
   ],
   "source": [
    "n=int(input(\"Enter a number: \"))\n",
    "\n",
    "for i in range(1,11):\n",
    "    x=n*i\n",
    "    print(n,'*',i,'=',x)"
   ]
  },
  {
   "cell_type": "code",
   "execution_count": 5,
   "id": "4d723205",
   "metadata": {},
   "outputs": [],
   "source": [
    "# 3. Write a Python Program to Print the Fibonacci sequence?"
   ]
  },
  {
   "cell_type": "code",
   "execution_count": 6,
   "id": "9a307c31",
   "metadata": {},
   "outputs": [
    {
     "name": "stdout",
     "output_type": "stream",
     "text": [
      "How many terms the user wants to print? 2\n",
      "The Fibonnci series is--\n",
      "0\n",
      "1\n"
     ]
    }
   ],
   "source": [
    "nterm=int(input (\"How many terms the user wants to print? \"))  \n",
    "n1=0\n",
    "n2=1\n",
    "count=0\n",
    "\n",
    "if nterm<=0:\n",
    "    print('Please Enter Positive Integer,the given number is invalid')\n",
    "elif nterm==1:\n",
    "    print('The Fibonnacci Sequence of the number upto',nterm)\n",
    "    print(n1)\n",
    "else:\n",
    "    print('The Fibonnci series is--')\n",
    "    while count<nterm:\n",
    "        print(n1)\n",
    "        nth=n1+n2\n",
    "        n1=n2\n",
    "        n2=nth\n",
    "        count+=1"
   ]
  },
  {
   "cell_type": "code",
   "execution_count": 7,
   "id": "8edba674",
   "metadata": {},
   "outputs": [],
   "source": [
    "# 4. Write a Python Program to Check Armstrong Number?"
   ]
  },
  {
   "cell_type": "code",
   "execution_count": 8,
   "id": "6bfe04cc",
   "metadata": {},
   "outputs": [
    {
     "name": "stdout",
     "output_type": "stream",
     "text": [
      "Enter a number: 12\n",
      "12 is Not an Arm Number\n"
     ]
    }
   ],
   "source": [
    "num =int(input(\"Enter a number: \"))\n",
    "order=len(str(num))\n",
    "sum=0\n",
    "\n",
    "a=num\n",
    "while a>0:\n",
    "    digit = a%10\n",
    "    sum += digit**order\n",
    "    a //= 10\n",
    "    \n",
    "if num==sum:\n",
    "    print(num,'is an Arm Number')\n",
    "else:\n",
    "    print(num,'is Not an Arm Number')\n"
   ]
  },
  {
   "cell_type": "code",
   "execution_count": 9,
   "id": "895bdd38",
   "metadata": {},
   "outputs": [],
   "source": [
    "# 5. Write a Python Program to Find Armstrong Number in an Interval?"
   ]
  },
  {
   "cell_type": "code",
   "execution_count": 6,
   "id": "7313b950",
   "metadata": {},
   "outputs": [
    {
     "name": "stdout",
     "output_type": "stream",
     "text": [
      "Enter range: 100\n",
      "Enter range: 2000\n",
      "153\n",
      "370\n",
      "371\n",
      "407\n",
      "1634\n"
     ]
    }
   ],
   "source": [
    "m=int(input(\"Enter range: \"))  \n",
    "n = int(input(\"Enter range: \"))  \n",
    "\n",
    "for num in range(m,n+1):\n",
    "    order=len(str(num))\n",
    "    sum=0\n",
    "\n",
    "    a=num\n",
    "    while a>0:\n",
    "        digit = a%10\n",
    "        sum += digit**order\n",
    "        a //= 10\n",
    "        #break\n",
    "    if num==sum:\n",
    "        print(num)\n",
    "        "
   ]
  },
  {
   "cell_type": "code",
   "execution_count": null,
   "id": "d893ee27",
   "metadata": {},
   "outputs": [],
   "source": [
    "# 6. Write a Python Program to Find the Sum of Natural Numbers?"
   ]
  },
  {
   "cell_type": "code",
   "execution_count": 20,
   "id": "2ae4d768",
   "metadata": {},
   "outputs": [
    {
     "name": "stdout",
     "output_type": "stream",
     "text": [
      "Enter a number: 6\n",
      "The Sum is 21\n"
     ]
    }
   ],
   "source": [
    "num1 = int(input(\"Enter a number: \")) \n",
    "\n",
    "\n",
    "if num < 0:\n",
    "    print('Enter the Positive Number.')\n",
    "\n",
    "else:\n",
    "    sum=0\n",
    "    while(num1>0):\n",
    "        sum += num1\n",
    "        num1 -= 1\n",
    "    print('The Sum is',sum)\n"
   ]
  },
  {
   "cell_type": "code",
   "execution_count": null,
   "id": "cb2ab26b",
   "metadata": {},
   "outputs": [],
   "source": []
  },
  {
   "cell_type": "code",
   "execution_count": null,
   "id": "12e8164a",
   "metadata": {},
   "outputs": [],
   "source": []
  }
 ],
 "metadata": {
  "kernelspec": {
   "display_name": "Python 3 (ipykernel)",
   "language": "python",
   "name": "python3"
  },
  "language_info": {
   "codemirror_mode": {
    "name": "ipython",
    "version": 3
   },
   "file_extension": ".py",
   "mimetype": "text/x-python",
   "name": "python",
   "nbconvert_exporter": "python",
   "pygments_lexer": "ipython3",
   "version": "3.9.7"
  }
 },
 "nbformat": 4,
 "nbformat_minor": 5
}
