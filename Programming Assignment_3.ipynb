{
 "cells": [
  {
   "cell_type": "markdown",
   "id": "2b74aa4f",
   "metadata": {},
   "source": [
    "# Progrmming assignment 3"
   ]
  },
  {
   "cell_type": "code",
   "execution_count": null,
   "id": "2da6a52a",
   "metadata": {},
   "outputs": [],
   "source": [
    "# 1.Write a Python Program to Check if a Number is Positive, Negative or Zero?"
   ]
  },
  {
   "cell_type": "code",
   "execution_count": null,
   "id": "deee2f01",
   "metadata": {},
   "outputs": [],
   "source": [
    "a=float(input('Enter the number: '))\n",
    "\n",
    "if a >0:\n",
    "    print('Number is Positive.')\n",
    "elif a<0:\n",
    "    print('Number is Negative.')\n",
    "else:\n",
    "    print('Number is Zero')"
   ]
  },
  {
   "cell_type": "code",
   "execution_count": null,
   "id": "8fcfe0e6",
   "metadata": {},
   "outputs": [],
   "source": [
    "# 2.Write a Python Program to Check if a Number is Odd or Even?"
   ]
  },
  {
   "cell_type": "code",
   "execution_count": null,
   "id": "7c814a0e",
   "metadata": {},
   "outputs": [],
   "source": [
    "b=int(input('Enter the number: '))\n",
    "\n",
    "if (b%2)==0:\n",
    "    print('{0} is even number'.format(b))\n",
    "else:\n",
    "    print('{0} is odd number'.format(b))\n"
   ]
  },
  {
   "cell_type": "code",
   "execution_count": null,
   "id": "49dbf875",
   "metadata": {},
   "outputs": [],
   "source": [
    "# 3. Write a Python Program to Check Leap Year?"
   ]
  },
  {
   "cell_type": "code",
   "execution_count": null,
   "id": "bb77168b",
   "metadata": {},
   "outputs": [],
   "source": [
    "Year=int(input('Enter Year: '))\n",
    "\n",
    "if (Year%4)==0:\n",
    "    if (Year%100)==0:\n",
    "        if (Year%400)==0:\n",
    "            print('{0} is a leap year'.format(Year))\n",
    "        else:\n",
    "            print('{0} is not a leap year'.format(Year))\n",
    "    else:\n",
    "        print('{0} is not a leap year'.format(Year))\n",
    "else:\n",
    "    print('{0} is not a leap year'.format(Year))\n",
    "\n"
   ]
  },
  {
   "cell_type": "code",
   "execution_count": null,
   "id": "d5f8df93",
   "metadata": {},
   "outputs": [],
   "source": [
    "# 4.Write a Python Program to Check Prime Number?"
   ]
  },
  {
   "cell_type": "code",
   "execution_count": null,
   "id": "2774be13",
   "metadata": {},
   "outputs": [],
   "source": [
    "Number=int(input('Enter The Number: '))\n",
    "\n",
    "if Number>1:\n",
    "    for i in range(2,Number):\n",
    "        if (Number%i)==0:\n",
    "            print(Number,'is Not Prime Number')\n",
    "            break\n",
    "    else:\n",
    "        print(Number,'is Prime Number')"
   ]
  },
  {
   "cell_type": "code",
   "execution_count": null,
   "id": "ba6c1571",
   "metadata": {},
   "outputs": [],
   "source": [
    "# 5.Write a Python Program to Print all Prime Numbers in an Interval of 1-10000?"
   ]
  },
  {
   "cell_type": "code",
   "execution_count": null,
   "id": "7834844c",
   "metadata": {},
   "outputs": [],
   "source": [
    "m=1\n",
    "n = 10000\n",
    "\n",
    "for num in range(m,n+1):\n",
    "    if n>1:\n",
    "        for i in range(2, num):\n",
    "             if (num%i)==0:\n",
    "                    break\n",
    "        else:\n",
    "            print(num)\n",
    "        "
   ]
  },
  {
   "cell_type": "code",
   "execution_count": null,
   "id": "5bc25fbe",
   "metadata": {},
   "outputs": [],
   "source": []
  }
 ],
 "metadata": {
  "kernelspec": {
   "display_name": "Python 3 (ipykernel)",
   "language": "python",
   "name": "python3"
  },
  "language_info": {
   "codemirror_mode": {
    "name": "ipython",
    "version": 3
   },
   "file_extension": ".py",
   "mimetype": "text/x-python",
   "name": "python",
   "nbconvert_exporter": "python",
   "pygments_lexer": "ipython3",
   "version": "3.9.7"
  }
 },
 "nbformat": 4,
 "nbformat_minor": 5
}
