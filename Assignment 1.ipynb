{
 "cells": [
  {
   "cell_type": "markdown",
   "id": "81658a66",
   "metadata": {},
   "source": [
    "# Assignment 1"
   ]
  },
  {
   "cell_type": "markdown",
   "id": "e4416f5b",
   "metadata": {},
   "source": [
    "1.In the below elements which of them are values or an expression? eg:- values can be\n",
    "integer or string and expressions will be mathematical operators.\n",
    "\n",
    "* =(Expressoíons)Matmatical Operator \n",
    "'hello' =(Values)String\n",
    "- =(Expressions)Mathmatical Operators\n",
    "/ =(Expressions)Mathmatical Operator\n",
    "+ =Mathmatical Operator\n",
    "6= (Values)integer"
   ]
  },
  {
   "cell_type": "markdown",
   "id": "30e4cdf6",
   "metadata": {},
   "source": [
    "2.What is the difference between string and variable?\n",
    "\n",
    "string=str() function returns string version of the given object.\n",
    "\n",
    "s=str(5.6)\n",
    "\n",
    "Variable=reserved location to store values,it always should start with either of letter or underscore. ex- sunil,_sunil,_si1 etc."
   ]
  },
  {
   "cell_type": "markdown",
   "id": "de10fdc8",
   "metadata": {},
   "source": [
    "3.Describe three different data types.\n",
    "python data types\n",
    "\n",
    "Boolean Type:\tbool (and, or, not)\n",
    "Numeric Types:  int, float, complex\n",
    "Sequence Types: list, tuple, range\n",
    "    Text Types: str\n",
    "Binary Sequence Types: bytes, bytearray, memoryview\n",
    "Set Types: set, frozenset\n",
    "Mapping Type:\tdict\n",
    "\n",
    "####### REF: https://docs.python.org/3/library/stdtypes.html#range\n"
   ]
  },
  {
   "cell_type": "markdown",
   "id": "77b24753",
   "metadata": {},
   "source": [
    "4.What is an expression made up of? What do all expressions do?\n",
    "\n",
    " expression is combinaton of functions,operatoes,Values,Variable.it need to be evaluated.if you use python print function it checks the expression and dispaly the result.\n"
   ]
  },
  {
   "cell_type": "markdown",
   "id": "67664aea",
   "metadata": {},
   "source": [
    "5. This assignment statements, like spam = 10. What is the difference between an\n",
    "expression and a statement?\n",
    "\n",
    "Expression evaluated the value while sataemet does something like creating variable or displaying a value ,it only does what staement asks to do.\n"
   ]
  },
  {
   "cell_type": "markdown",
   "id": "0e173aa1",
   "metadata": {},
   "source": [
    "6. After running the following code, what does the variable bacon contain?\n",
    "bacon = 22\n",
    "bacon + 1\n",
    "#### bacon contains 22"
   ]
  },
  {
   "cell_type": "code",
   "execution_count": 1,
   "id": "831de5ed",
   "metadata": {},
   "outputs": [
    {
     "data": {
      "text/plain": [
       "23"
      ]
     },
     "execution_count": 1,
     "metadata": {},
     "output_type": "execute_result"
    }
   ],
   "source": [
    "bacon = 22\n",
    "bacon + 1"
   ]
  },
  {
   "cell_type": "code",
   "execution_count": 2,
   "id": "348df829",
   "metadata": {},
   "outputs": [
    {
     "data": {
      "text/plain": [
       "22"
      ]
     },
     "execution_count": 2,
     "metadata": {},
     "output_type": "execute_result"
    }
   ],
   "source": [
    "bacon"
   ]
  },
  {
   "cell_type": "markdown",
   "id": "ec8db2ac",
   "metadata": {},
   "source": [
    "7.What should the values of the following two terms be?\n",
    "'spam'+'spamspam'\n",
    "'spam'*3\n",
    "\n",
    "When we Exceute about statements we get same ans for both 'spamspamspam'"
   ]
  },
  {
   "cell_type": "code",
   "execution_count": 3,
   "id": "fd8beae3",
   "metadata": {},
   "outputs": [
    {
     "data": {
      "text/plain": [
       "'spamspamspam'"
      ]
     },
     "execution_count": 3,
     "metadata": {},
     "output_type": "execute_result"
    }
   ],
   "source": [
    "'spam'+'spamspam'"
   ]
  },
  {
   "cell_type": "code",
   "execution_count": 4,
   "id": "cbea5319",
   "metadata": {},
   "outputs": [
    {
     "data": {
      "text/plain": [
       "'spamspamspam'"
      ]
     },
     "execution_count": 4,
     "metadata": {},
     "output_type": "execute_result"
    }
   ],
   "source": [
    "'spam'*3"
   ]
  },
  {
   "cell_type": "markdown",
   "id": "3644ae69",
   "metadata": {},
   "source": [
    "8.Why is eggs a valid variable name while 100 is invalid?\n",
    "\n",
    "Variable always must start with underscore or letter.\n",
    "example- eggs,sunil,_sunil,_sun1 etc"
   ]
  },
  {
   "cell_type": "markdown",
   "id": "901f736b",
   "metadata": {},
   "source": [
    "9.What three functions can be used to get the integer, floating-point number, or string\n",
    "version of a value?\n",
    "\n",
    "for Integer=int(),\n",
    "for float= float(),\n",
    "for string=str()."
   ]
  },
  {
   "cell_type": "markdown",
   "id": "868ab14c",
   "metadata": {},
   "source": [
    "10.Why does this expression cause an error? How can you fix it?\n",
    "'i have eaten'+99+'burritos\n",
    "\n",
    "This expresssion cauess error becuase we can not add str with int. we have to convert int to str in above expression."
   ]
  },
  {
   "cell_type": "code",
   "execution_count": 5,
   "id": "56c79365",
   "metadata": {},
   "outputs": [
    {
     "data": {
      "text/plain": [
       "'i have eaten 99 burritos'"
      ]
     },
     "execution_count": 5,
     "metadata": {},
     "output_type": "execute_result"
    }
   ],
   "source": [
    "'i have eaten' + ' 99' + ' burritos'"
   ]
  },
  {
   "cell_type": "code",
   "execution_count": null,
   "id": "082e7cbc",
   "metadata": {},
   "outputs": [],
   "source": []
  }
 ],
 "metadata": {
  "kernelspec": {
   "display_name": "Python 3 (ipykernel)",
   "language": "python",
   "name": "python3"
  },
  "language_info": {
   "codemirror_mode": {
    "name": "ipython",
    "version": 3
   },
   "file_extension": ".py",
   "mimetype": "text/x-python",
   "name": "python",
   "nbconvert_exporter": "python",
   "pygments_lexer": "ipython3",
   "version": "3.8.8"
  }
 },
 "nbformat": 4,
 "nbformat_minor": 5
}
