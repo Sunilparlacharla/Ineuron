{
 "cells": [
  {
   "cell_type": "markdown",
   "id": "b00c1d36",
   "metadata": {},
   "source": [
    " # Write a Python program to find sum of elements in list?"
   ]
  },
  {
   "cell_type": "code",
   "execution_count": 1,
   "id": "7302dcf9",
   "metadata": {},
   "outputs": [
    {
     "name": "stdout",
     "output_type": "stream",
     "text": [
      "15\n"
     ]
    }
   ],
   "source": [
    "def sum_list(list):\n",
    "    sum = 0\n",
    "    for i in list:\n",
    "        sum += i\n",
    "    return sum\n",
    "print(sum_list([1, 2, 3, 4, 5]))"
   ]
  },
  {
   "cell_type": "markdown",
   "id": "424f514e",
   "metadata": {},
   "source": [
    "# Write a Python program to Multiply all numbers in the list?"
   ]
  },
  {
   "cell_type": "code",
   "execution_count": 3,
   "id": "9391e7fc",
   "metadata": {},
   "outputs": [
    {
     "name": "stdout",
     "output_type": "stream",
     "text": [
      "24\n"
     ]
    }
   ],
   "source": [
    "def multiply(numbers):\n",
    "    result = 1\n",
    "    for x in numbers:\n",
    "        result *= x\n",
    "    return result\n",
    "print(multiply([1, 2, 3, 4]))"
   ]
  },
  {
   "cell_type": "markdown",
   "id": "42e337db",
   "metadata": {},
   "source": [
    "# Write a Python program to find smallest number in a list?"
   ]
  },
  {
   "cell_type": "code",
   "execution_count": 4,
   "id": "b401c3a1",
   "metadata": {},
   "outputs": [
    {
     "name": "stdout",
     "output_type": "stream",
     "text": [
      "1\n"
     ]
    }
   ],
   "source": [
    "def smallest_number(list):\n",
    "    smallest = list[0]\n",
    "    for i in list:\n",
    "        if i < smallest:\n",
    "            smallest = i\n",
    "    return smallest\n",
    "print(smallest_number([1, 2, 3, 4, 5, 6, 7, 8, 9, 10]))"
   ]
  },
  {
   "cell_type": "markdown",
   "id": "6ff32fe9",
   "metadata": {},
   "source": [
    "# Write a Python program to find largest number in a list?"
   ]
  },
  {
   "cell_type": "code",
   "execution_count": 6,
   "id": "a02a303f",
   "metadata": {},
   "outputs": [
    {
     "name": "stdout",
     "output_type": "stream",
     "text": [
      "Largest number in the list is:  10\n",
      "Smallest number in the list is:  1\n"
     ]
    }
   ],
   "source": [
    "def large():\n",
    "    list1 = [1, 2, 3, 4, 5, 6, 7, 8, 9, 10]\n",
    "    print(\"Largest number in the list is: \", max(list1))\n",
    "    print(\"Smallest number in the list is: \", min(list1))\n",
    "large()"
   ]
  },
  {
   "cell_type": "code",
   "execution_count": 7,
   "id": "c887b00e",
   "metadata": {},
   "outputs": [],
   "source": [
    "# Write a Python program to find second largest number in a list?"
   ]
  },
  {
   "cell_type": "code",
   "execution_count": 8,
   "id": "3b884c74",
   "metadata": {},
   "outputs": [
    {
     "name": "stdout",
     "output_type": "stream",
     "text": [
      "9\n"
     ]
    }
   ],
   "source": [
    "def second_largest(lst):\n",
    "    lst.sort()\n",
    "    return lst[-2]\n",
    "print(second_largest([1, 2, 3, 4, 5, 6, 7, 8, 9, 10]))"
   ]
  },
  {
   "cell_type": "markdown",
   "id": "f2747c4c",
   "metadata": {},
   "source": [
    "# Write a Python program to find N largest elements from a list?"
   ]
  },
  {
   "cell_type": "code",
   "execution_count": 9,
   "id": "915382d9",
   "metadata": {},
   "outputs": [
    {
     "name": "stdout",
     "output_type": "stream",
     "text": [
      "[10, 9, 8]\n"
     ]
    }
   ],
   "source": [
    "def find_n_largest(n, lst):\n",
    "    return sorted(lst, reverse=True)[:n]\n",
    "print(find_n_largest(3, [1, 2, 3, 4, 5, 6, 7, 8, 9, 10]))"
   ]
  },
  {
   "cell_type": "markdown",
   "id": "ffc6ba87",
   "metadata": {},
   "source": [
    "# Write a Python program to print even numbers in a list?"
   ]
  },
  {
   "cell_type": "code",
   "execution_count": 10,
   "id": "3fcb6298",
   "metadata": {},
   "outputs": [
    {
     "name": "stdout",
     "output_type": "stream",
     "text": [
      "2\n",
      "4\n",
      "6\n",
      "8\n",
      "10\n",
      "None\n"
     ]
    }
   ],
   "source": [
    "def even_numbers(lst):\n",
    "    for i in lst:\n",
    "        if i % 2 == 0:\n",
    "            print(i)\n",
    "print(even_numbers([1, 2, 3, 4, 5, 6, 7, 8, 9,10]))"
   ]
  },
  {
   "cell_type": "markdown",
   "id": "b66b1ce6",
   "metadata": {},
   "source": [
    "# Write a Python program to print odd numbers in a List?"
   ]
  },
  {
   "cell_type": "code",
   "execution_count": 11,
   "id": "86fe3087",
   "metadata": {},
   "outputs": [
    {
     "name": "stdout",
     "output_type": "stream",
     "text": [
      "1\n",
      "3\n",
      "5\n",
      "7\n",
      "9\n",
      "None\n"
     ]
    }
   ],
   "source": [
    "def odd_numbers():\n",
    "    list1 = [1, 2, 3, 4, 5, 6, 7, 8, 9, 10]\n",
    "    for i in list1:\n",
    "        if i % 2 != 0:\n",
    "            print(i)\n",
    "print(odd_numbers())"
   ]
  },
  {
   "cell_type": "markdown",
   "id": "59d695a9",
   "metadata": {},
   "source": [
    "# Write a Python program to Remove empty List from List?"
   ]
  },
  {
   "cell_type": "code",
   "execution_count": 12,
   "id": "54322699",
   "metadata": {},
   "outputs": [
    {
     "name": "stdout",
     "output_type": "stream",
     "text": [
      "[1, 2, 3, 4, 5, 6]\n"
     ]
    }
   ],
   "source": [
    "def remove_empty(lst):\n",
    "    return [x for x in lst if x]\n",
    "print(remove_empty([1, 2, '', 3, 4, '', 5, 6]))"
   ]
  },
  {
   "cell_type": "markdown",
   "id": "6248bebd",
   "metadata": {},
   "source": [
    "# Write a Python program to Cloning or Copying a list?"
   ]
  },
  {
   "cell_type": "code",
   "execution_count": 15,
   "id": "9082a5a7",
   "metadata": {},
   "outputs": [
    {
     "name": "stdout",
     "output_type": "stream",
     "text": [
      "Original List: [4, 8, 2, 10, 15, 18]\n",
      "After Cloning: [4, 8, 2, 10, 15, 18]\n"
     ]
    }
   ],
   "source": [
    "def Cloning(li1):\n",
    "    li_copy = li1[:]\n",
    "    return li_copy\n",
    "\n",
    "li1 = [4, 8, 2, 10, 15, 18]\n",
    "li2 = Cloning(li1)\n",
    "print(\"Original List:\", li1)\n",
    "print(\"After Cloning:\", li2)"
   ]
  },
  {
   "cell_type": "markdown",
   "id": "5e60a4b0",
   "metadata": {},
   "source": [
    "# Write a Python program to Count occurrences of an element in a list?"
   ]
  },
  {
   "cell_type": "code",
   "execution_count": 14,
   "id": "623e5096",
   "metadata": {},
   "outputs": [
    {
     "name": "stdout",
     "output_type": "stream",
     "text": [
      "3\n"
     ]
    }
   ],
   "source": [
    "def count_occurrences(list, element):\n",
    "    count = 0\n",
    "    for i in list:\n",
    "        if i == element:\n",
    "            count += 1\n",
    "    return count\n",
    "print(count_occurrences([1, 1, 2, 2, 3, 3, 3, 4, 4, 5], 3))"
   ]
  },
  {
   "cell_type": "code",
   "execution_count": null,
   "id": "16f3e58f",
   "metadata": {},
   "outputs": [],
   "source": []
  }
 ],
 "metadata": {
  "kernelspec": {
   "display_name": "Python 3 (ipykernel)",
   "language": "python",
   "name": "python3"
  },
  "language_info": {
   "codemirror_mode": {
    "name": "ipython",
    "version": 3
   },
   "file_extension": ".py",
   "mimetype": "text/x-python",
   "name": "python",
   "nbconvert_exporter": "python",
   "pygments_lexer": "ipython3",
   "version": "3.9.7"
  }
 },
 "nbformat": 4,
 "nbformat_minor": 5
}
